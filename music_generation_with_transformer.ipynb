{
  "nbformat": 4,
  "nbformat_minor": 0,
  "metadata": {
    "colab": {
      "name": "music_generation_with_transformer",
      "provenance": []
    },
    "kernelspec": {
      "name": "python3",
      "display_name": "Python 3"
    },
    "language_info": {
      "name": "python"
    },
    "accelerator": "GPU"
  },
  "cells": [
    {
      "cell_type": "markdown",
      "source": [
        "# Introduction\n",
        "\n",
        "**IMPORTANT: Notebook does not work at the moment. We have only started implementing the Transformer model.**\n",
        "\n",
        "This notebook has been created as part of the Music Generation project by Dmytro Lopushanskyy and Yana Muliarska.\n",
        "\n",
        "The following sources have been used:\n",
        "\n",
        "[How to utilize the Lakh MIDI Dataset, with examples](https://nbviewer.org/github/craffel/midi-dataset/blob/master/Tutorial.ipynb) \n",
        "\n",
        "[Generating Music Using Deep Learning](https://towardsdatascience.com/generating-music-using-deep-learning-cb5843a9d55e)  \n",
        "\n",
        "[Using Deep Learning to generate pop music!](https://github.com/bearpelican/musicautobot)\n",
        "\n",
        "[MusicGenDL](https://github.com/thamsuppp/MusicGenDL)\n",
        "\n",
        "[The Lakh MIDI Dataset v0.1](https://colinraffel.com/projects/lmd/)"
      ],
      "metadata": {
        "id": "0Ijw3ENv8Aqo"
      }
    },
    {
      "cell_type": "code",
      "source": [
        "!wget \"http://hog.ee.columbia.edu/craffel/lmd/lmd_matched_h5.tar.gz\" -P \"/content/drive/MyDrive/music_generation/\""
      ],
      "metadata": {
        "colab": {
          "base_uri": "https://localhost:8080/"
        },
        "id": "TkTcGJdoq2nO",
        "outputId": "79fe56ab-76cf-434e-98b0-43fa49fa24e9"
      },
      "execution_count": null,
      "outputs": [
        {
          "output_type": "stream",
          "name": "stdout",
          "text": [
            "--2022-04-27 10:40:39--  http://hog.ee.columbia.edu/craffel/lmd/lmd_matched_h5.tar.gz\n",
            "Resolving hog.ee.columbia.edu (hog.ee.columbia.edu)... 128.59.66.5\n",
            "Connecting to hog.ee.columbia.edu (hog.ee.columbia.edu)|128.59.66.5|:80... connected.\n",
            "HTTP request sent, awaiting response... 200 OK\n",
            "Length: 6635217072 (6.2G) [application/x-gzip]\n",
            "Saving to: ‘/content/drive/MyDrive/music_generation/lmd_matched_h5.tar.gz’\n",
            "\n",
            "lmd_matched_h5.tar. 100%[===================>]   6.18G  11.2MB/s    in 9m 32s  \n",
            "\n",
            "2022-04-27 10:50:11 (11.1 MB/s) - ‘/content/drive/MyDrive/music_generation/lmd_matched_h5.tar.gz’ saved [6635217072/6635217072]\n",
            "\n"
          ]
        }
      ]
    },
    {
      "cell_type": "code",
      "source": [
        "from google.colab import drive\n",
        "drive.mount('/content/drive')"
      ],
      "metadata": {
        "colab": {
          "base_uri": "https://localhost:8080/"
        },
        "id": "ig15vi7-naS0",
        "outputId": "df106021-60ba-40ed-bc47-4d00eb53fb65"
      },
      "execution_count": null,
      "outputs": [
        {
          "output_type": "stream",
          "name": "stdout",
          "text": [
            "Mounted at /content/drive\n"
          ]
        }
      ]
    },
    {
      "cell_type": "code",
      "source": [
        "!tar -xf \"/content/drive/MyDrive/music_generation/lmd_matched_h5.tar.gz\" -C \"/content/\""
      ],
      "metadata": {
        "id": "mcC1UKs7743L"
      },
      "execution_count": null,
      "outputs": []
    },
    {
      "cell_type": "code",
      "source": [
        "!tar -xf \"/content/drive/MyDrive/music_generation/lmd_matched.tar.gz\" -C \"/content/\""
      ],
      "metadata": {
        "id": "uhMuShvo0syj"
      },
      "execution_count": null,
      "outputs": []
    },
    {
      "cell_type": "code",
      "source": [
        "!tar -xf \"/content/drive/MyDrive/music_generation/lpd_5_cleansed.tar.gz\" -C \"/content/\""
      ],
      "metadata": {
        "id": "U0CXsixO1VHY"
      },
      "execution_count": null,
      "outputs": []
    },
    {
      "cell_type": "code",
      "source": [
        "!apt-get update -qq && apt-get install -qq libfluidsynth1 fluid-soundfont-gm build-essential libasound2-dev libjack-dev\n",
        "!pip install -qU pyfluidsynth pretty_midi\n",
        "!pip install music21\n",
        "!pip install pypianoroll\n",
        "!pip install musicautobot\n",
        "!pip install pebble"
      ],
      "metadata": {
        "colab": {
          "base_uri": "https://localhost:8080/"
        },
        "id": "3oRZ-G-IixVy",
        "outputId": "67733dd6-d762-4b2c-e853-1868420059f2"
      },
      "execution_count": null,
      "outputs": [
        {
          "output_type": "stream",
          "name": "stdout",
          "text": [
            "W: GPG error: https://developer.download.nvidia.com/compute/cuda/repos/ubuntu1804/x86_64  InRelease: The following signatures couldn't be verified because the public key is not available: NO_PUBKEY A4B469963BF863CC\n",
            "E: The repository 'https://developer.download.nvidia.com/compute/cuda/repos/ubuntu1804/x86_64  InRelease' is no longer signed.\n",
            "\u001b[K     |████████████████████████████████| 5.6 MB 5.0 MB/s \n",
            "\u001b[K     |████████████████████████████████| 51 kB 5.9 MB/s \n",
            "\u001b[?25h  Building wheel for pretty-midi (setup.py) ... \u001b[?25l\u001b[?25hdone\n",
            "Requirement already satisfied: music21 in /usr/local/lib/python3.7/dist-packages (5.5.0)\n",
            "Collecting pypianoroll\n",
            "  Downloading pypianoroll-1.0.4-py3-none-any.whl (26 kB)\n",
            "Requirement already satisfied: matplotlib>=1.5 in /usr/local/lib/python3.7/dist-packages (from pypianoroll) (3.2.2)\n",
            "Requirement already satisfied: numpy>=1.12.0 in /usr/local/lib/python3.7/dist-packages (from pypianoroll) (1.21.6)\n",
            "Requirement already satisfied: pretty-midi>=0.2.8 in /usr/local/lib/python3.7/dist-packages (from pypianoroll) (0.2.9)\n",
            "Requirement already satisfied: scipy>=1.0.0 in /usr/local/lib/python3.7/dist-packages (from pypianoroll) (1.4.1)\n",
            "Requirement already satisfied: cycler>=0.10 in /usr/local/lib/python3.7/dist-packages (from matplotlib>=1.5->pypianoroll) (0.11.0)\n",
            "Requirement already satisfied: kiwisolver>=1.0.1 in /usr/local/lib/python3.7/dist-packages (from matplotlib>=1.5->pypianoroll) (1.4.2)\n",
            "Requirement already satisfied: python-dateutil>=2.1 in /usr/local/lib/python3.7/dist-packages (from matplotlib>=1.5->pypianoroll) (2.8.2)\n",
            "Requirement already satisfied: pyparsing!=2.0.4,!=2.1.2,!=2.1.6,>=2.0.1 in /usr/local/lib/python3.7/dist-packages (from matplotlib>=1.5->pypianoroll) (3.0.8)\n",
            "Requirement already satisfied: typing-extensions in /usr/local/lib/python3.7/dist-packages (from kiwisolver>=1.0.1->matplotlib>=1.5->pypianoroll) (4.2.0)\n",
            "Requirement already satisfied: mido>=1.1.16 in /usr/local/lib/python3.7/dist-packages (from pretty-midi>=0.2.8->pypianoroll) (1.2.10)\n",
            "Requirement already satisfied: six in /usr/local/lib/python3.7/dist-packages (from pretty-midi>=0.2.8->pypianoroll) (1.15.0)\n",
            "Installing collected packages: pypianoroll\n",
            "Successfully installed pypianoroll-1.0.4\n",
            "Collecting musicautobot\n",
            "  Downloading musicautobot-0.0.1-py3-none-any.whl (38 kB)\n",
            "Installing collected packages: musicautobot\n",
            "Successfully installed musicautobot-0.0.1\n",
            "Collecting pebble\n",
            "  Downloading Pebble-4.6.3-py2.py3-none-any.whl (25 kB)\n",
            "Installing collected packages: pebble\n",
            "Successfully installed pebble-4.6.3\n"
          ]
        }
      ]
    },
    {
      "cell_type": "markdown",
      "metadata": {
        "id": "M9NUurTqwdWD"
      },
      "source": [
        "**Imports**"
      ]
    },
    {
      "cell_type": "code",
      "metadata": {
        "id": "eg0AggLUwayE",
        "colab": {
          "base_uri": "https://localhost:8080/"
        },
        "outputId": "26595118-8d29-4c1e-db2f-2db4f3544b4e"
      },
      "source": [
        "import os\n",
        "import shutil\n",
        "import glob\n",
        "import numpy as np \n",
        "import pandas as pd\n",
        "import pretty_midi\n",
        "import pypianoroll\n",
        "import tables\n",
        "from music21 import *\n",
        "import music21\n",
        "import librosa\n",
        "import librosa.display\n",
        "import matplotlib.pyplot as plt\n",
        "from keras.utils import np_utils\n",
        "import json\n",
        "import IPython.display\n",
        "from datetime import datetime\n",
        "from google.colab import files\n",
        "\n",
        "from musicautobot.numpy_encode import *\n",
        "from musicautobot.config import *\n",
        "from musicautobot.music_transformer import *\n",
        "from musicautobot.multitask_transformer import *\n",
        "from musicautobot.utils import midifile\n",
        "\n",
        "import random\n",
        "import itertools\n",
        "\n",
        "root_dir = '/content'\n",
        "drive_dir = '/content/drive/MyDrive/music_generation/'\n",
        "data_dir = root_dir + '/lpd_5/lpd_5_cleansed'\n",
        "music_dataset_lpd_dir = root_dir + '/lmd_matched'"
      ],
      "execution_count": null,
      "outputs": [
        {
          "output_type": "stream",
          "name": "stdout",
          "text": [
            "Warning: Could not find musescore installation. Please install musescore (see README) and/or update music21 environment paths\n"
          ]
        }
      ]
    },
    {
      "cell_type": "markdown",
      "metadata": {
        "id": "Fd9iGNO0wjFC"
      },
      "source": [
        "**Getting MIDI and Song Metadata**"
      ]
    },
    {
      "cell_type": "code",
      "metadata": {
        "id": "GZ-ZSVizwlH_",
        "colab": {
          "base_uri": "https://localhost:8080/"
        },
        "outputId": "f5af9b0a-7b86-4c9d-9d5d-e33d18fbe2d1"
      },
      "source": [
        "# Utility functions for retrieving paths\n",
        "def msd_id_to_dirs(msd_id):\n",
        "    \"\"\"Given an MSD ID, generate the path prefix.\n",
        "    E.g. TRABCD12345678 -> A/B/C/TRABCD12345678\"\"\"\n",
        "    return os.path.join(msd_id[2], msd_id[3], msd_id[4], msd_id)\n",
        "\n",
        "\n",
        "def msd_id_to_h5(msd_id):\n",
        "    \"\"\"Given an MSD ID, return the path to the corresponding h5\"\"\"\n",
        "    return os.path.join(root_dir, 'lmd_matched_h5',\n",
        "                        msd_id_to_dirs(msd_id) + '.h5')\n",
        "\n",
        "# Load the midi npz file from the LMD cleansed folder\n",
        "def get_midi_npz_path(msd_id, midi_md5):\n",
        "    return os.path.join(data_dir, msd_id_to_dirs(msd_id), midi_md5 + '.npz')\n",
        "    \n",
        "# Load the midi file from the Music Dataset folder\n",
        "def get_midi_path(msd_id, midi_md5):\n",
        "    return os.path.join(music_dataset_lpd_dir,\n",
        "                        msd_id_to_dirs(msd_id), midi_md5 + '.mid')\n",
        "    \n",
        "# Open the cleansed ids - cleansed file ids : msd ids\n",
        "cleansed_ids = pd.read_csv(os.path.join(drive_dir, 'cleansed_ids.txt'), delimiter = '    ', header = None)\n",
        "lpd_to_msd_ids = {a:b for a, b in zip(cleansed_ids[0], cleansed_ids[1])}\n",
        "msd_to_lpd_ids = {a:b for a, b in zip(cleansed_ids[1], cleansed_ids[0])}"
      ],
      "execution_count": null,
      "outputs": [
        {
          "output_type": "stream",
          "name": "stderr",
          "text": [
            "/usr/local/lib/python3.7/dist-packages/pandas/util/_decorators.py:311: ParserWarning: Falling back to the 'python' engine because the 'c' engine does not support regex separators (separators > 1 char and different from '\\s+' are interpreted as regex); you can avoid this warning by specifying engine='python'.\n",
            "  return func(*args, **kwargs)\n"
          ]
        }
      ]
    },
    {
      "cell_type": "markdown",
      "metadata": {
        "id": "5Cp7D4EdwqjA"
      },
      "source": [
        "**Reading Genre Annotations**"
      ]
    },
    {
      "cell_type": "code",
      "metadata": {
        "id": "lhAGsLAvwz_W"
      },
      "source": [
        "genre_file_dir = os.path.join(drive_dir, 'msd_tagtraum_cd1.cls')\n",
        "ids = []\n",
        "genres = []\n",
        "with open(genre_file_dir) as f:\n",
        "    line = f.readline()\n",
        "    while line:\n",
        "        if line[0] != '#':\n",
        "          split = line.strip().split(\"\\t\")\n",
        "          if len(split) == 2:\n",
        "            ids.append(split[0])\n",
        "            genres.append(split[1])\n",
        "          elif len(split) == 3:\n",
        "            ids.append(split[0])\n",
        "            ids.append(split[0])\n",
        "            genres.append(split[1])\n",
        "            genres.append(split[2])\n",
        "        line = f.readline()\n",
        "genre_df = pd.DataFrame(data={\"TrackID\": ids, \"Genre\": genres})\n",
        "genre_dict = genre_df.groupby('TrackID')['Genre'].apply(lambda x: x.tolist()).to_dict()"
      ],
      "execution_count": null,
      "outputs": []
    },
    {
      "cell_type": "code",
      "source": [
        "genre_dict_filtered = dict((key, value) for key, value in genre_dict.items() if key in msd_to_lpd_ids)"
      ],
      "metadata": {
        "id": "A76rD17McXTx"
      },
      "execution_count": null,
      "outputs": []
    },
    {
      "cell_type": "markdown",
      "metadata": {
        "id": "2LRm5--9yBNx"
      },
      "source": [
        "**Retrieving MSD IDs**"
      ]
    },
    {
      "cell_type": "code",
      "metadata": {
        "id": "F-1uS9DXyFgq"
      },
      "source": [
        "# Get all song MSD IDs in pop rock genre\n",
        "pop_song_msd_ids = [k for k, v in genre_dict_filtered.items() if 'Pop_Rock' in v]\n",
        "\n",
        "# Randomly choose 1000 songs out of these\n",
        "train_ids = random.choices(pop_song_msd_ids, k = 1000)"
      ],
      "execution_count": null,
      "outputs": []
    },
    {
      "cell_type": "markdown",
      "metadata": {
        "id": "ZIEWc2ypwVLF"
      },
      "source": [
        "**Transformer Code**"
      ]
    },
    {
      "cell_type": "code",
      "metadata": {
        "id": "x2nnBbRVv6pF",
        "colab": {
          "base_uri": "https://localhost:8080/",
          "height": 488
        },
        "outputId": "e63272a7-0e11-42a0-933d-b3e3681f9881"
      },
      "source": [
        "import pebble\n",
        "from musicautobot.numpy_encode import *\n",
        "from musicautobot.utils.file_processing import process_all, process_file\n",
        "from musicautobot.config import *\n",
        "from musicautobot.music_transformer import *\n",
        "\n",
        "\n",
        "# Location of your midi files\n",
        "midi_path = Path(root_dir + '/lmd_matched/A/A/A')\n",
        "data_path = Path(root_dir)\n",
        "data_save_name = 'musicitem_data_save.pkl'\n",
        "\n",
        "\n",
        "midi_files = get_files(midi_path, '.mid', recurse=True)\n",
        "data_mj = MusicDataBunch.from_files(midi_files, data_path, processors=[Midi2ItemProcessor()], bs=4, bptt=128, encode_position=False)\n",
        "\n",
        "learn_mj = music_model_learner(data_mj, arch=TransformerXL, config=default_config())\n",
        "\n",
        "import warnings\n",
        "warnings.simplefilter(\"ignore\", UserWarning)\n",
        "\n",
        "learn_mj.fit_one_cycle(5)\n"
      ],
      "execution_count": null,
      "outputs": [
        {
          "output_type": "stream",
          "name": "stderr",
          "text": [
            "/usr/local/lib/python3.7/dist-packages/fastai/core.py:302: VisibleDeprecationWarning: Creating an ndarray from ragged nested sequences (which is a list-or-tuple of lists-or-tuples-or ndarrays with different lengths or shapes) is deprecated. If you meant to do this, you must specify 'dtype=object' when creating the ndarray.\n",
            "  return np.array(a, dtype=dtype, **kwargs)\n"
          ]
        },
        {
          "output_type": "display_data",
          "data": {
            "text/plain": [
              "<IPython.core.display.HTML object>"
            ],
            "text/html": [
              "\n",
              "<style>\n",
              "    /* Turns off some styling */\n",
              "    progress {\n",
              "        /* gets rid of default border in Firefox and Opera. */\n",
              "        border: none;\n",
              "        /* Needs to be in here for Safari polyfill so background images work as expected. */\n",
              "        background-size: auto;\n",
              "    }\n",
              "    .progress-bar-interrupted, .progress-bar-interrupted::-webkit-progress-bar {\n",
              "        background: #F44336;\n",
              "    }\n",
              "</style>\n"
            ]
          },
          "metadata": {}
        },
        {
          "output_type": "display_data",
          "data": {
            "text/plain": [
              "<IPython.core.display.HTML object>"
            ],
            "text/html": [
              "<table border=\"1\" class=\"dataframe\">\n",
              "  <thead>\n",
              "    <tr style=\"text-align: left;\">\n",
              "      <th>epoch</th>\n",
              "      <th>train_loss</th>\n",
              "      <th>valid_loss</th>\n",
              "      <th>accuracy</th>\n",
              "      <th>time</th>\n",
              "    </tr>\n",
              "  </thead>\n",
              "  <tbody>\n",
              "    <tr>\n",
              "      <td>0</td>\n",
              "      <td>2.300060</td>\n",
              "      <td>2.679075</td>\n",
              "      <td>0.381539</td>\n",
              "      <td>00:58</td>\n",
              "    </tr>\n",
              "    <tr>\n",
              "      <td>1</td>\n",
              "      <td>2.118613</td>\n",
              "      <td>3.089572</td>\n",
              "      <td>0.339334</td>\n",
              "      <td>00:58</td>\n",
              "    </tr>\n",
              "    <tr>\n",
              "      <td>2</td>\n",
              "      <td>2.078274</td>\n",
              "      <td>3.040560</td>\n",
              "      <td>0.349270</td>\n",
              "      <td>00:59</td>\n",
              "    </tr>\n",
              "    <tr>\n",
              "      <td>3</td>\n",
              "      <td>1.921540</td>\n",
              "      <td>2.883530</td>\n",
              "      <td>0.382388</td>\n",
              "      <td>00:59</td>\n",
              "    </tr>\n",
              "    <tr>\n",
              "      <td>4</td>\n",
              "      <td>1.909261</td>\n",
              "      <td>2.693087</td>\n",
              "      <td>0.364555</td>\n",
              "      <td>00:59</td>\n",
              "    </tr>\n",
              "  </tbody>\n",
              "</table>"
            ]
          },
          "metadata": {}
        },
        {
          "output_type": "error",
          "ename": "AttributeError",
          "evalue": "ignored",
          "traceback": [
            "\u001b[0;31m---------------------------------------------------------------------------\u001b[0m",
            "\u001b[0;31mAttributeError\u001b[0m                            Traceback (most recent call last)",
            "\u001b[0;32m<ipython-input-10-6537f66d6f88>\u001b[0m in \u001b[0;36m<module>\u001b[0;34m()\u001b[0m\n\u001b[1;32m     24\u001b[0m \u001b[0mmidi_file\u001b[0m \u001b[0;34m=\u001b[0m \u001b[0mPath\u001b[0m\u001b[0;34m(\u001b[0m\u001b[0mroot_dir\u001b[0m \u001b[0;34m+\u001b[0m \u001b[0;34m'/lmd_matched/A/A/A/TRAAAGR128F425B14B/1d9d16a9da90c090809c153754823c2b.mid'\u001b[0m\u001b[0;34m)\u001b[0m\u001b[0;34m\u001b[0m\u001b[0;34m\u001b[0m\u001b[0m\n\u001b[1;32m     25\u001b[0m \u001b[0mitem\u001b[0m \u001b[0;34m=\u001b[0m \u001b[0mMusicItem\u001b[0m\u001b[0;34m.\u001b[0m\u001b[0mfrom_file\u001b[0m\u001b[0;34m(\u001b[0m\u001b[0mmidi_file\u001b[0m\u001b[0;34m,\u001b[0m \u001b[0mdata_mj\u001b[0m\u001b[0;34m.\u001b[0m\u001b[0mvocab\u001b[0m\u001b[0;34m)\u001b[0m\u001b[0;34m;\u001b[0m\u001b[0;34m\u001b[0m\u001b[0;34m\u001b[0m\u001b[0m\n\u001b[0;32m---> 26\u001b[0;31m \u001b[0mpred\u001b[0m \u001b[0;34m=\u001b[0m \u001b[0mmidi_file\u001b[0m\u001b[0;34m.\u001b[0m\u001b[0mpredict\u001b[0m\u001b[0;34m(\u001b[0m\u001b[0mitem\u001b[0m\u001b[0;34m,\u001b[0m \u001b[0mn_words\u001b[0m\u001b[0;34m=\u001b[0m\u001b[0;36m500\u001b[0m\u001b[0;34m)\u001b[0m\u001b[0;34m\u001b[0m\u001b[0;34m\u001b[0m\u001b[0m\n\u001b[0m\u001b[1;32m     27\u001b[0m \u001b[0;34m\u001b[0m\u001b[0m\n\u001b[1;32m     28\u001b[0m \u001b[0mpred\u001b[0m\u001b[0;34m[\u001b[0m\u001b[0;36m0\u001b[0m\u001b[0;34m]\u001b[0m\u001b[0;34m.\u001b[0m\u001b[0mto_stream\u001b[0m\u001b[0;34m(\u001b[0m\u001b[0;34m)\u001b[0m\u001b[0;34m.\u001b[0m\u001b[0mshow\u001b[0m\u001b[0;34m(\u001b[0m\u001b[0;34m'text'\u001b[0m\u001b[0;34m)\u001b[0m\u001b[0;34m\u001b[0m\u001b[0;34m\u001b[0m\u001b[0m\n",
            "\u001b[0;31mAttributeError\u001b[0m: 'PosixPath' object has no attribute 'predict'"
          ]
        }
      ]
    },
    {
      "cell_type": "code",
      "source": [
        "midi_file = Path(root_dir + '/lmd_matched/A/A/A/TRAAAZF12903CCCF6B/05f21994c71a5f881e64f45c8d706165.mid')\n",
        "item = MusicItem.from_file(midi_file, data_mj.vocab);\n",
        "pred = learn_mj.predict(item, n_words=500)\n",
        "\n",
        "pred[0].to_stream().show('text')\n",
        "\n",
        "pred[0].play()"
      ],
      "metadata": {
        "colab": {
          "base_uri": "https://localhost:8080/",
          "height": 854
        },
        "id": "NQyRZHGw9KFl",
        "outputId": "bb0177ed-178d-4477-d495-32dfba7a8d6a"
      },
      "execution_count": null,
      "outputs": [
        {
          "output_type": "display_data",
          "data": {
            "text/plain": [
              "<IPython.core.display.HTML object>"
            ],
            "text/html": [
              "\n",
              "<style>\n",
              "    /* Turns off some styling */\n",
              "    progress {\n",
              "        /* gets rid of default border in Firefox and Opera. */\n",
              "        border: none;\n",
              "        /* Needs to be in here for Safari polyfill so background images work as expected. */\n",
              "        background-size: auto;\n",
              "    }\n",
              "    .progress-bar-interrupted, .progress-bar-interrupted::-webkit-progress-bar {\n",
              "        background: #F44336;\n",
              "    }\n",
              "</style>\n"
            ]
          },
          "metadata": {}
        },
        {
          "output_type": "display_data",
          "data": {
            "text/plain": [
              "<IPython.core.display.HTML object>"
            ],
            "text/html": [
              "\n",
              "    <div>\n",
              "      <progress value='500' class='' max='500' style='width:300px; height:20px; vertical-align: middle;'></progress>\n",
              "      100.00% [500/500 00:16<00:00]\n",
              "    </div>\n",
              "    "
            ]
          },
          "metadata": {}
        },
        {
          "output_type": "stream",
          "name": "stdout",
          "text": [
            "{0.0} <music21.meter.TimeSignature 4/4>\n",
            "{0.0} <music21.tempo.MetronomeMark animato Quarter=120>\n",
            "{0.0} <music21.key.KeySignature of no sharps or flats>\n",
            "{0.0} <music21.stream.Part 0x7ff42a8532d0>\n",
            "    {0.0} <music21.instrument.Piano Piano>\n",
            "    {0.5} <music21.chord.Chord E-2 G3 F#4>\n",
            "    {1.0} <music21.chord.Chord F2 C4 D4 E4>\n",
            "    {1.5} <music21.chord.Chord C4 E4 F4 G4 A4 B-4 C5>\n",
            "    {1.75} <music21.chord.Chord G3 D4 F4 G4 B-4 C5>\n",
            "    {2.0} <music21.chord.Chord B-3 C4 D4 E4 G4 A4 C5 D5>\n",
            "    {2.25} <music21.chord.Chord C4 F4 F#4 G4>\n",
            "    {2.5} <music21.chord.Chord B-3 C4 D4 E4 F#4 B-4>\n",
            "    {2.75} <music21.chord.Chord G3 D4 E4>\n",
            "    {3.0} <music21.note.Note F#>\n",
            "    {3.25} <music21.chord.Chord B-3 F#4>\n",
            "    {3.5} <music21.chord.Chord C4 D4 E4>\n",
            "    {3.75} <music21.chord.Chord C4 G4>\n",
            "    {4.0} <music21.chord.Chord B-3 E4 F4 G4 A4 B-4>\n",
            "    {4.25} <music21.chord.Chord F2 C4 D4 E4 F#4 B-4 C5>\n",
            "    {4.5} <music21.chord.Chord G3 C4 E4 F#4 G4 A4 B-4 C5>\n",
            "    {4.75} <music21.chord.Chord C4 E4 A4 B-4 C5 D5>\n",
            "    {5.0} <music21.chord.Chord B-3 D4 F4 F#4 G4 A4 B-4 C5>\n",
            "    {5.25} <music21.chord.Chord C4 E4 F#4 A4 B-4>\n",
            "    {5.5} <music21.chord.Chord F4 G4>\n",
            "    {5.75} <music21.chord.Chord E-2 C4 F4>\n",
            "    {6.0} <music21.chord.Chord E4 F4 F#4 G4 A4>\n",
            "    {6.25} <music21.chord.Chord D4 F#4>\n",
            "    {6.5} <music21.chord.Chord E-2 C4 E4 F#4 B-4>\n",
            "    {6.75} <music21.chord.Chord C4 D4 E4 G4>\n",
            "    {7.0} <music21.chord.Chord F2 D4 E4 F4 G4 C5>\n",
            "    {7.25} <music21.chord.Chord G3 C4 E4 A4>\n",
            "    {7.5} <music21.chord.Chord C4 E4 F4 G4 A4 B-4>\n",
            "    {7.75} <music21.chord.Chord C4 D4 E4 F4 F#4 G4 A4 B-4>\n",
            "    {8.0} <music21.chord.Chord E4 F4 F#4 G4 A4 C5>\n"
          ]
        },
        {
          "output_type": "error",
          "ename": "NameError",
          "evalue": "ignored",
          "traceback": [
            "\u001b[0;31m---------------------------------------------------------------------------\u001b[0m",
            "\u001b[0;31mNameError\u001b[0m                                 Traceback (most recent call last)",
            "\u001b[0;32m<ipython-input-20-d8cfc11537bd>\u001b[0m in \u001b[0;36m<module>\u001b[0;34m()\u001b[0m\n\u001b[1;32m      4\u001b[0m \u001b[0;34m\u001b[0m\u001b[0m\n\u001b[1;32m      5\u001b[0m \u001b[0mpred\u001b[0m\u001b[0;34m[\u001b[0m\u001b[0;36m0\u001b[0m\u001b[0;34m]\u001b[0m\u001b[0;34m.\u001b[0m\u001b[0mto_stream\u001b[0m\u001b[0;34m(\u001b[0m\u001b[0;34m)\u001b[0m\u001b[0;34m.\u001b[0m\u001b[0mshow\u001b[0m\u001b[0;34m(\u001b[0m\u001b[0;34m'text'\u001b[0m\u001b[0;34m)\u001b[0m\u001b[0;34m\u001b[0m\u001b[0;34m\u001b[0m\u001b[0m\n\u001b[0;32m----> 6\u001b[0;31m \u001b[0mplay\u001b[0m\u001b[0;34m(\u001b[0m\u001b[0mpred\u001b[0m\u001b[0;34m[\u001b[0m\u001b[0;36m0\u001b[0m\u001b[0;34m]\u001b[0m\u001b[0;34m.\u001b[0m\u001b[0mto_stream\u001b[0m\u001b[0;34m(\u001b[0m\u001b[0;34m)\u001b[0m\u001b[0;34m)\u001b[0m\u001b[0;34m\u001b[0m\u001b[0;34m\u001b[0m\u001b[0m\n\u001b[0m\u001b[1;32m      7\u001b[0m \u001b[0mshow\u001b[0m\u001b[0;34m(\u001b[0m\u001b[0mpred\u001b[0m\u001b[0;34m[\u001b[0m\u001b[0;36m0\u001b[0m\u001b[0;34m]\u001b[0m\u001b[0;34m.\u001b[0m\u001b[0mto_stream\u001b[0m\u001b[0;34m(\u001b[0m\u001b[0;34m)\u001b[0m\u001b[0;34m)\u001b[0m\u001b[0;34m\u001b[0m\u001b[0;34m\u001b[0m\u001b[0m\n",
            "\u001b[0;31mNameError\u001b[0m: name 'play' is not defined"
          ]
        }
      ]
    },
    {
      "cell_type": "code",
      "source": [
        "from IPython import display\n",
        "\n",
        "midi_pred = pred[0].play()\n",
        "pm = pretty_midi.PrettyMIDI(midi_pred)\n",
        "\n",
        "_SAMPLING_RATE = 16000\n",
        "\n",
        "def display_audio(pm: pretty_midi.PrettyMIDI, seconds=1):\n",
        "  waveform = pm.fluidsynth(fs=_SAMPLING_RATE)\n",
        "  # Take a sample of the generated waveform to mitigate kernel resets\n",
        "  waveform_short = waveform[:seconds*_SAMPLING_RATE]\n",
        "  return display.Audio(waveform_short, rate=_SAMPLING_RATE)"
      ],
      "metadata": {
        "colab": {
          "base_uri": "https://localhost:8080/",
          "height": 17
        },
        "id": "B0oD09azBDsH",
        "outputId": "7d595f8e-c9ec-4466-ea32-f301f5bc5cbe"
      },
      "execution_count": null,
      "outputs": [
        {
          "output_type": "display_data",
          "data": {
            "text/plain": [
              "<IPython.core.display.HTML object>"
            ],
            "text/html": [
              "\n",
              "                <div id='midiPlayerDiv814143'></div>\n",
              "                <link rel=\"stylesheet\" href=\"//cuthbertLab.github.io/music21j/css/m21.css\"\n",
              "                    type=\"text/css\" />\n",
              "                <script>\n",
              "                require.config({\n",
              "                    paths: {'music21': '//cuthbertLab.github.io/music21j/src/music21'}\n",
              "                });\n",
              "                require(['music21'], function() {\n",
              "                               mp = new music21.miditools.MidiPlayer();\n",
              "                               mp.addPlayer('#midiPlayerDiv814143');\n",
              "                               mp.base64Load('data:audio/midi;base64,TVRoZAAAAAYAAQABBABNVHJrAAAEnwD/AwVQaWFubwDAAADgAEAAwAAA/1EDB6EghACQJ1oAkDdaAJBCWoIAgCcAAIA3AACAQgCCAJApWgCQPFoAkD5aAJBAWoIAgCkAAIA8AACAPgAAgEAAggCQPFoAkEBaAJBBWgCQQ1oAkEVaAJBGWgCQSFqCAIA8AACAQAAAgEEAAIBDAACARQAAgEYAAIBIAACQN1oAkD5aAJBBWgCQQ1oAkEZaAJBIWoIAgDcAAIA+AACAQQAAgEMAAIBGAACASAAAkDpaAJA8WgCQPloAkEBaAJBDWgCQRVoAkEhaAJBKWoIAgDoAAIA8AACAPgAAgEAAAIBDAACARQAAgEgAAIBKAACQPFoAkEFaAJBCWgCQQ1qCAIA8AACAQQAAgEIAAIBDAACQOloAkDxaAJA+WgCQQFoAkEJaAJBGWoIAgDoAAIA8AACAPgAAgEAAAIBCAACARgAAkDdaAJA+WgCQQFqCAIA3AACAPgAAgEAAAJBCWoIAgEIAAJA6WgCQQlqCAIA6AACAQgAAkDxaAJA+WgCQQFqCAIA8AACAPgAAgEAAAJA8WgCQQ1qCAIA8AACAQwAAkDpaAJBAWgCQQVoAkENaAJBFWgCQRlqCAIA6AACAQAAAgEEAAIBDAACARQAAgEYAAJApWgCQPFoAkD5aAJBAWgCQQloAkEZaAJBIWoIAgCkAAIA8AACAPgAAgEAAAIBCAACARgAAgEgAAJA3WgCQPFoAkEBaAJBCWgCQQ1oAkEVaAJBGWgCQSFqCAIA3AACAPAAAgEAAAIBCAACAQwAAgEUAAIBGAACASAAAkDxaAJBAWgCQRVoAkEZaAJBIWgCQSlqCAIA8AACAQAAAgEUAAIBGAACASAAAgEoAAJA6WgCQPloAkEFaAJBCWgCQQ1oAkEVaAJBGWgCQSFqCAIA6AACAPgAAgEEAAIBCAACAQwAAgEUAAIBGAACASAAAkDxaAJBAWgCQQloAkEVaAJBGWoIAgDwAAIBAAACAQgAAgEUAAIBGAACQQVoAkENaggCAQQAAgEMAAJAnWgCQPFoAkEFaggCAJwAAgDwAAIBBAACQQFoAkEFaAJBCWgCQQ1oAkEVaggCAQAAAgEEAAIBCAACAQwAAgEUAAJA+WgCQQlqCAIA+AACAQgAAkCdaAJA8WgCQQFoAkEJaAJBGWoIAgCcAAIA8AACAQAAAgEIAAIBGAACQPFoAkD5aAJBAWgCQQ1qCAIA8AACAPgAAgEAAAIBDAACQKVoAkD5aAJBAWgCQQVoAkENaAJBIWoIAgCkAAIA+AACAQAAAgEEAAIBDAACASAAAkDdaAJA8WgCQQFoAkEVaggCANwAAgDwAAIBAAACARQAAkDxaAJBAWgCQQVoAkENaAJBFWgCQRlqCAIA8AACAQAAAgEEAAIBDAACARQAAgEYAAJA8WgCQPloAkEBaAJBBWgCQQloAkENaAJBFWgCQRlqCAIA8AACAPgAAgEAAAIBBAACAQgAAgEMAAIBFAACARgAAkEBaAJBBWgCQQloAkENaAJBFWgCQSFqCAIBAAACAQQAAgEIAAIBDAACARQAAgEgAiAD/LwA=');\n",
              "                        });\n",
              "                </script>"
            ]
          },
          "metadata": {}
        }
      ]
    },
    {
      "cell_type": "code",
      "source": [
        "instrument = pretty_midi.Instrument(\n",
        "    program=pretty_midi.instrument_name_to_program(\n",
        "        'Acoustic Grand Piano'))\n",
        "\n",
        "pm.instruments.append(instrument)"
      ],
      "metadata": {
        "id": "QQAQiolIFOXN"
      },
      "execution_count": null,
      "outputs": []
    },
    {
      "cell_type": "code",
      "source": [
        "print('Number of instruments:', len(pm.instruments))\n",
        "instrument = pm.instruments[0]\n",
        "instrument_name = pretty_midi.program_to_instrument_name(instrument.program)\n",
        "print('Instrument name:', instrument_name)"
      ],
      "metadata": {
        "colab": {
          "base_uri": "https://localhost:8080/"
        },
        "id": "izYlv9epExqJ",
        "outputId": "09107946-ae6f-4a90-8cdb-3cfd86b965ce"
      },
      "execution_count": null,
      "outputs": [
        {
          "output_type": "stream",
          "name": "stdout",
          "text": [
            "Number of instruments: 1\n",
            "Instrument name: Acoustic Grand Piano\n"
          ]
        }
      ]
    },
    {
      "cell_type": "code",
      "source": [
        "def midi_to_notes(midi_file: str) -> pd.DataFrame:\n",
        "  pm = pretty_midi.PrettyMIDI(midi_file)\n",
        "  instrument = pretty_midi.Instrument(\n",
        "    program=pretty_midi.instrument_name_to_program(\n",
        "        'Acoustic Grand Piano'))\n",
        "  pm.instruments.append(instrument)\n",
        "  instrument = pm.instruments[0]\n",
        "  notes = collections.defaultdict(list)\n",
        "\n",
        "  # Sort the notes by start time\n",
        "  sorted_notes = sorted(instrument.notes, key=lambda note: note.start)\n",
        "  prev_start = sorted_notes[0].start\n",
        "\n",
        "  for note in sorted_notes:\n",
        "    start = note.start\n",
        "    end = note.end\n",
        "    notes['pitch'].append(note.pitch)\n",
        "    notes['start'].append(start)\n",
        "    notes['end'].append(end)\n",
        "    notes['step'].append(start - prev_start)\n",
        "    notes['duration'].append(end - start)\n",
        "    prev_start = start\n",
        "\n",
        "  return pd.DataFrame({name: np.array(value) for name, value in notes.items()})"
      ],
      "metadata": {
        "id": "yy__4LLGFtgn"
      },
      "execution_count": null,
      "outputs": []
    },
    {
      "cell_type": "code",
      "source": [
        "raw_notes = midi_to_notes(midi_pred)\n",
        "raw_notes.head()"
      ],
      "metadata": {
        "colab": {
          "base_uri": "https://localhost:8080/",
          "height": 314
        },
        "id": "zjMjO0fxFy9J",
        "outputId": "47b46803-5b1e-428d-a0c4-ad1d11e96627"
      },
      "execution_count": null,
      "outputs": [
        {
          "output_type": "error",
          "ename": "IndexError",
          "evalue": "ignored",
          "traceback": [
            "\u001b[0;31m---------------------------------------------------------------------------\u001b[0m",
            "\u001b[0;31mIndexError\u001b[0m                                Traceback (most recent call last)",
            "\u001b[0;32m<ipython-input-67-26237484d086>\u001b[0m in \u001b[0;36m<module>\u001b[0;34m()\u001b[0m\n\u001b[0;32m----> 1\u001b[0;31m \u001b[0mraw_notes\u001b[0m \u001b[0;34m=\u001b[0m \u001b[0mmidi_to_notes\u001b[0m\u001b[0;34m(\u001b[0m\u001b[0mmidi_pred\u001b[0m\u001b[0;34m)\u001b[0m\u001b[0;34m\u001b[0m\u001b[0;34m\u001b[0m\u001b[0m\n\u001b[0m\u001b[1;32m      2\u001b[0m \u001b[0mraw_notes\u001b[0m\u001b[0;34m.\u001b[0m\u001b[0mhead\u001b[0m\u001b[0;34m(\u001b[0m\u001b[0;34m)\u001b[0m\u001b[0;34m\u001b[0m\u001b[0;34m\u001b[0m\u001b[0m\n",
            "\u001b[0;32m<ipython-input-66-625c510a683e>\u001b[0m in \u001b[0;36mmidi_to_notes\u001b[0;34m(midi_file)\u001b[0m\n\u001b[1;32m     10\u001b[0m   \u001b[0;31m# Sort the notes by start time\u001b[0m\u001b[0;34m\u001b[0m\u001b[0;34m\u001b[0m\u001b[0;34m\u001b[0m\u001b[0m\n\u001b[1;32m     11\u001b[0m   \u001b[0msorted_notes\u001b[0m \u001b[0;34m=\u001b[0m \u001b[0msorted\u001b[0m\u001b[0;34m(\u001b[0m\u001b[0minstrument\u001b[0m\u001b[0;34m.\u001b[0m\u001b[0mnotes\u001b[0m\u001b[0;34m,\u001b[0m \u001b[0mkey\u001b[0m\u001b[0;34m=\u001b[0m\u001b[0;32mlambda\u001b[0m \u001b[0mnote\u001b[0m\u001b[0;34m:\u001b[0m \u001b[0mnote\u001b[0m\u001b[0;34m.\u001b[0m\u001b[0mstart\u001b[0m\u001b[0;34m)\u001b[0m\u001b[0;34m\u001b[0m\u001b[0;34m\u001b[0m\u001b[0m\n\u001b[0;32m---> 12\u001b[0;31m   \u001b[0mprev_start\u001b[0m \u001b[0;34m=\u001b[0m \u001b[0msorted_notes\u001b[0m\u001b[0;34m[\u001b[0m\u001b[0;36m0\u001b[0m\u001b[0;34m]\u001b[0m\u001b[0;34m.\u001b[0m\u001b[0mstart\u001b[0m\u001b[0;34m\u001b[0m\u001b[0;34m\u001b[0m\u001b[0m\n\u001b[0m\u001b[1;32m     13\u001b[0m \u001b[0;34m\u001b[0m\u001b[0m\n\u001b[1;32m     14\u001b[0m   \u001b[0;32mfor\u001b[0m \u001b[0mnote\u001b[0m \u001b[0;32min\u001b[0m \u001b[0msorted_notes\u001b[0m\u001b[0;34m:\u001b[0m\u001b[0;34m\u001b[0m\u001b[0;34m\u001b[0m\u001b[0m\n",
            "\u001b[0;31mIndexError\u001b[0m: list index out of range"
          ]
        }
      ]
    }
  ]
}